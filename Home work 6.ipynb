{
 "cells": [
  {
   "cell_type": "markdown",
   "id": "cff7f05b",
   "metadata": {},
   "source": [
    "Implementation of Non-Random Pivot Quicksort:"
   ]
  },
  {
   "cell_type": "code",
   "execution_count": 1,
   "id": "365c11b5",
   "metadata": {},
   "outputs": [
    {
     "name": "stdout",
     "output_type": "stream",
     "text": [
      "Sorted array: [1, 5, 7, 8, 9, 10]\n"
     ]
    }
   ],
   "source": [
    "def partition(arr, low, high):\n",
    "    pivot = arr[high]\n",
    "    i = low - 1\n",
    "    for j in range(low, high):\n",
    "        if arr[j] < pivot:\n",
    "            i += 1\n",
    "            arr[i], arr[j] = arr[j], arr[i]\n",
    "    arr[i + 1], arr[high] = arr[high], arr[i + 1]\n",
    "    return i + 1\n",
    "\n",
    "def quicksort(arr, low, high):\n",
    "    if low < high:\n",
    "        pi = partition(arr, low, high)\n",
    "        quicksort(arr, low, pi - 1)\n",
    "        quicksort(arr, pi + 1, high)\n",
    "\n",
    "# Example Usage:\n",
    "arr = [10, 7, 8, 9, 1, 5]\n",
    "n = len(arr)\n",
    "quicksort(arr, 0, n - 1)\n",
    "print(\"Sorted array:\", arr)\n"
   ]
  },
  {
   "cell_type": "code",
   "execution_count": null,
   "id": "effb61c9",
   "metadata": {},
   "outputs": [],
   "source": [
    "Implementation of Random Pivot Quicksort:"
   ]
  },
  {
   "cell_type": "code",
   "execution_count": 2,
   "id": "5ba877ab",
   "metadata": {},
   "outputs": [
    {
     "name": "stdout",
     "output_type": "stream",
     "text": [
      "Sorted array: [1, 5, 7, 8, 9, 10]\n"
     ]
    }
   ],
   "source": [
    "import random\n",
    "\n",
    "def partition(arr, low, high):\n",
    "    pivot_index = random.randint(low, high)\n",
    "    pivot = arr[pivot_index]\n",
    "    arr[pivot_index], arr[high] = arr[high], arr[pivot_index]\n",
    "    \n",
    "    i = low - 1\n",
    "    for j in range(low, high):\n",
    "        if arr[j] < pivot:\n",
    "            i += 1\n",
    "            arr[i], arr[j] = arr[j], arr[i]\n",
    "    arr[i + 1], arr[high] = arr[high], arr[i + 1]\n",
    "    return i + 1\n",
    "\n",
    "def quicksort(arr, low, high):\n",
    "    if low < high:\n",
    "        pi = partition(arr, low, high)\n",
    "        quicksort(arr, low, pi - 1)\n",
    "        quicksort(arr, pi + 1, high)\n",
    "\n",
    "# Example Usage:\n",
    "arr = [10, 7, 8, 9, 1, 5]\n",
    "n = len(arr)\n",
    "quicksort(arr, 0, n - 1)\n",
    "print(\"Sorted array:\", arr)\n"
   ]
  },
  {
   "cell_type": "code",
   "execution_count": null,
   "id": "b39afa91",
   "metadata": {},
   "outputs": [],
   "source": [
    "Graphical Analysis of non-random pivot Quicksort"
   ]
  },
  {
   "cell_type": "code",
   "execution_count": 4,
   "id": "d9e7a216",
   "metadata": {},
   "outputs": [
    {
     "data": {
      "image/png": "[encoded data removed]",
      "text/plain": [
       "<Figure size 1000x600 with 1 Axes>"
      ]
     },
     "metadata": {},
     "output_type": "display_data"
    }
   ],
   "source": [
    "import random\n",
    "import time\n",
    "import matplotlib.pyplot as plt\n",
    "\n",
    "def partition(arr, low, high):\n",
    "    pivot = arr[high]\n",
    "    i = low - 1\n",
    "    for j in range(low, high):\n",
    "        if arr[j] <= pivot:\n",
    "            i += 1\n",
    "            arr[i], arr[j] = arr[j], arr[i]\n",
    "    arr[i + 1], arr[high] = arr[high], arr[i + 1]\n",
    "    return i + 1\n",
    "\n",
    "def quicksort(arr, low, high):\n",
    "    if low < high:\n",
    "        pi = partition(arr, low, high)\n",
    "        quicksort(arr, low, pi - 1)\n",
    "        quicksort(arr, pi + 1, high)\n",
    "\n",
    "def generate_array(size, case='average'):\n",
    "    if case == 'best':\n",
    "        return list(range(1, size + 1))\n",
    "    elif case == 'worst':\n",
    "        return list(range(size, 0, -1))\n",
    "    else:\n",
    "        return [random.randint(1, 1000) for _ in range(size)]\n",
    "\n",
    "def benchmark(sort_func, cases, sizes):\n",
    "    results = {case: {size: [] for size in sizes} for case in cases}\n",
    "    for case in cases:\n",
    "        for size in sizes:\n",
    "            for _ in range(5):  # Repeat each case multiple times\n",
    "                arr = generate_array(size, case)\n",
    "                start_time = time.time()\n",
    "                sort_func(arr, 0, size - 1)\n",
    "                end_time = time.time()\n",
    "                elapsed_time = end_time - start_time\n",
    "                results[case][size].append(elapsed_time)\n",
    "    return results\n",
    "\n",
    "def plot_results(results):\n",
    "    plt.figure(figsize=(10, 6))\n",
    "    colors = {'average': 'blue', 'worst': 'red', 'best': 'green'}\n",
    "    for case, data in results.items():\n",
    "        for size, times in data.items():\n",
    "            avg_time = sum(times) / len(times)\n",
    "            plt.scatter(size, avg_time, color=colors[case], label=case if size == sizes[-1] else None)\n",
    "    plt.xlabel('Input Size (n)')\n",
    "    plt.ylabel('Average Time (s)')\n",
    "    plt.title('Quicksort Performance')\n",
    "    plt.legend()\n",
    "    plt.grid(True)\n",
    "    plt.show()\n",
    "\n",
    "if __name__ == \"__main__\":\n",
    "    sizes = [100, 500, 1000, 2000]  # Input sizes\n",
    "    cases = ['best', 'worst', 'average']\n",
    "    \n",
    "    results = benchmark(quicksort, cases, sizes)\n",
    "    plot_results(results)\n"
   ]
  },
  {
   "cell_type": "code",
   "execution_count": null,
   "id": "903bdd1b",
   "metadata": {},
   "outputs": [],
   "source": []
  }
 ],
 "metadata": {
  "kernelspec": {
   "display_name": "Python 3 (ipykernel)",
   "language": "python",
   "name": "python3"
  },
  "language_info": {
   "codemirror_mode": {
    "name": "ipython",
    "version": 3
   },
   "file_extension": ".py",
   "mimetype": "text/x-python",
   "name": "python",
   "nbconvert_exporter": "python",
   "pygments_lexer": "ipython3",
   "version": "3.10.9"
  }
 },
 "nbformat": 4,
 "nbformat_minor": 5
}
